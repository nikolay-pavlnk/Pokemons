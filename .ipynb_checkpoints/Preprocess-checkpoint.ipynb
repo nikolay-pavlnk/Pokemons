{
 "cells": [
  {
   "cell_type": "code",
   "execution_count": 6,
   "metadata": {},
   "outputs": [],
   "source": [
    "import os\n",
    "from PIL import Image"
   ]
  },
  {
   "cell_type": "code",
   "execution_count": 7,
   "metadata": {},
   "outputs": [],
   "source": [
    "pokemon_directory = 'pokemon'\n",
    "pokemon_directory_jpg = 'pokemon_jpg'\n",
    "pokemon_resized_jpg = 'pokemon_resized'\n",
    "width = 56\n",
    "height = 56"
   ]
  },
  {
   "cell_type": "code",
   "execution_count": 29,
   "metadata": {},
   "outputs": [],
   "source": [
    "def png2rgb(png):\n",
    "    \"\"\"Convert image format png to RGB\"\"\"\n",
    "    new_image = Image.new(\"RGB\", png.size, (255, 255, 255))\n",
    "    new_image.paste(png, mask=png.split()[3]) \n",
    "    \n",
    "    return new_image"
   ]
  },
  {
   "cell_type": "code",
   "execution_count": 30,
   "metadata": {},
   "outputs": [],
   "source": [
    "for image in os.listdir(pokemon_directory):\n",
    "    \"\"\"Save jpg image to folder\"\"\"\n",
    "    png = Image.open(pokemon_directory + '/' + image, 'r')\n",
    "    png.load() \n",
    "    \n",
    "    rgb_image = png2rgb(png)\n",
    "    rgb_image.save(pokemon_directory_jpg + '/' + image[:-3] + 'jpg', 'JPEG', quality=100)"
   ]
  },
  {
   "cell_type": "code",
   "execution_count": 31,
   "metadata": {},
   "outputs": [],
   "source": [
    "for image in os.listdir(pokemon_directory_jpg):\n",
    "    \"\"\"Resize image and save to folder\"\"\"\n",
    "    \n",
    "    image_jpg = Image.open(pokemon_directory_jpg + '/' + image)\n",
    "    image_jpg.load()\n",
    "    \n",
    "    image_jpg.resize((width,height), Image.ANTIALIAS).save(pokemon_resized_jpg + '/' + image[:-3] + 'jpg', \\\n",
    "                                                                                       'JPEG', quality=100)"
   ]
  }
 ],
 "metadata": {
  "kernelspec": {
   "display_name": "Python 3",
   "language": "python",
   "name": "python3"
  },
  "language_info": {
   "codemirror_mode": {
    "name": "ipython",
    "version": 3
   },
   "file_extension": ".py",
   "mimetype": "text/x-python",
   "name": "python",
   "nbconvert_exporter": "python",
   "pygments_lexer": "ipython3",
   "version": "3.5.5"
  }
 },
 "nbformat": 4,
 "nbformat_minor": 2
}
